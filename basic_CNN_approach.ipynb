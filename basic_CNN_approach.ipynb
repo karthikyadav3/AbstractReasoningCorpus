{
 "cells": [
  {
   "cell_type": "markdown",
   "metadata": {
    "colab_type": "text",
    "id": "qABByGIQHBTA"
   },
   "source": [
    "**Solving tasks using one Conv2d(in_channels=10, out_channels=10, kernel_size=5, padding=2)"
   ]
  },
  {
   "cell_type": "code",
   "execution_count": 10,
   "metadata": {
    "_cell_guid": "b1076dfc-b9ad-4769-8c92-a6c4dae69d19",
    "_uuid": "8f2839f25d086af736a60e9eeb907d3b93b6e0e5",
    "colab": {},
    "colab_type": "code",
    "id": "kf2uqqBXHBTC"
   },
   "outputs": [],
   "source": [
    "import numpy as np\n",
    "import pandas as pd\n",
    "\n",
    "from tqdm import tqdm\n",
    "import json\n",
    "import os\n",
    "from os.path import join as path_join"
   ]
  },
  {
   "cell_type": "markdown",
   "metadata": {
    "colab_type": "text",
    "id": "bA6Dpm6pHBTI"
   },
   "source": [
    "# Data Loading"
   ]
  },
  {
   "cell_type": "code",
   "execution_count": 11,
   "metadata": {
    "_cell_guid": "79c7e3d0-c299-4dcb-8224-4455121ee9b0",
    "_uuid": "d629ff2d2480ee46fbb7e2d37f6b5fab8052498a",
    "colab": {},
    "colab_type": "code",
    "id": "XDjs5queHBTI"
   },
   "outputs": [],
   "source": [
    "def load_data(path):\n",
    "    tasks = pd.Series()\n",
    "    for file_path in os.listdir(path):\n",
    "        task_file = path_join(path, file_path)\n",
    "\n",
    "        with open(task_file, 'r') as f:\n",
    "            task = json.load(f)\n",
    "\n",
    "        tasks[file_path[:-5]] = task\n",
    "    return tasks"
   ]
  },
  {
   "cell_type": "code",
   "execution_count": 13,
   "metadata": {
    "colab": {
     "base_uri": "https://localhost:8080/",
     "height": 173
    },
    "colab_type": "code",
    "id": "TZx1zWLsHBTM",
    "outputId": "3289c837-5efa-4264-c6ca-85b983bb9125"
   },
   "outputs": [
    {
     "data": {
      "text/plain": [
       "007bbfb7    {'test': [{'input': [[7, 0, 7], [7, 0, 7], [7,...\n",
       "00d62c1b    {'train': [{'input': [[0, 0, 0, 0, 0, 0], [0, ...\n",
       "017c7c7b    {'train': [{'input': [[0, 1, 0], [1, 1, 0], [0...\n",
       "025d127b    {'train': [{'input': [[0, 0, 0, 0, 0, 0, 0, 0,...\n",
       "045e512c    {'train': [{'input': [[0, 0, 0, 0, 0, 0, 0, 0,...\n",
       "dtype: object"
      ]
     },
     "execution_count": 13,
     "metadata": {},
     "output_type": "execute_result"
    }
   ],
   "source": [
    "train_tasks = load_data('C:/Users/Sai Karthik Yadav/ARC/data/training/')\n",
    "evaluation_tasks = load_data('C:/Users/Sai Karthik Yadav/ARC/data/evaluation/')\n",
    "test_tasks = load_data('C:/Users/Sai Karthik Yadav/ARC/data/test/')\n",
    "\n",
    "train_tasks.head()"
   ]
  },
  {
   "cell_type": "markdown",
   "metadata": {
    "colab_type": "text",
    "id": "xIlf9lyMHBTP"
   },
   "source": [
    "# Model"
   ]
  },
  {
   "cell_type": "code",
   "execution_count": 18,
   "metadata": {
    "colab": {},
    "colab_type": "code",
    "id": "nDc7bfkWHBTQ"
   },
   "outputs": [],
   "source": [
    "import torch\n",
    "from torch.nn import CrossEntropyLoss\n",
    "from torch.optim import Adam\n",
    "from torch.nn import Conv2d\n",
    "from torch import FloatTensor, LongTensor\n",
    "\n",
    "\n",
    "\n",
    "def inp2img(inp):\n",
    "    inp = np.array(inp)\n",
    "    img = np.full((10, inp.shape[0], inp.shape[1]), 0, dtype=np.uint8)\n",
    "    for i in range(10):\n",
    "        img[i] = (inp==i)\n",
    "    return img\n",
    "\n",
    "\n",
    "class TaskSolver:        \n",
    "    def train(self, task_train, n_epoch=3000):\n",
    "        \"\"\"basic pytorch train loop\"\"\"\n",
    "        self.net = Conv2d(in_channels=10, out_channels=10, kernel_size=5, padding=2)\n",
    "        \n",
    "        criterion = CrossEntropyLoss()\n",
    "        optimizer = Adam(self.net.parameters(), lr = 0.1)\n",
    "        \n",
    "        for epoch in range(n_epoch):\n",
    "            for sample in task_train:\n",
    "                inputs = FloatTensor(inp2img(sample['input'])).unsqueeze(dim=0)\n",
    "                labels = LongTensor(sample['output']).unsqueeze(dim=0)\n",
    "                \n",
    "                optimizer.zero_grad()\n",
    "                outputs = self.net(inputs)\n",
    "                loss = criterion(outputs, labels)\n",
    "                loss.backward()\n",
    "                optimizer.step()\n",
    "        \n",
    "        return self\n",
    "            \n",
    "    def predict(self, task_test):\n",
    "        predictions = []\n",
    "        with torch.no_grad():\n",
    "            for sample in task_test:\n",
    "                inputs = FloatTensor(inp2img(sample['input'])).unsqueeze(dim=0)\n",
    "                outputs = self.net(inputs)\n",
    "                pred =  outputs.squeeze(dim=0).cpu().numpy().argmax(0)\n",
    "                predictions.append(pred)\n",
    "                                     \n",
    "        return predictions"
   ]
  },
  {
   "cell_type": "markdown",
   "metadata": {
    "colab_type": "text",
    "id": "f1s_9l8dHBTU"
   },
   "source": [
    "# Results"
   ]
  },
  {
   "cell_type": "code",
   "execution_count": 19,
   "metadata": {
    "colab": {},
    "colab_type": "code",
    "id": "gdd5ugRxHBTU"
   },
   "outputs": [],
   "source": [
    "def input_output_shape_is_same(task):\n",
    "    return all([np.array(el['input']).shape == np.array(el['output']).shape for el in task['train']])\n",
    "\n",
    "def calk_score(task_test, predict):\n",
    "    return [int(np.equal(sample['output'], pred).all()) for sample, pred in zip(task_test, predict)]"
   ]
  },
  {
   "cell_type": "code",
   "execution_count": 20,
   "metadata": {
    "colab": {},
    "colab_type": "code",
    "id": "Ol31bmqHHBTY"
   },
   "outputs": [],
   "source": [
    "def evaluate(tasks):\n",
    "    ts = TaskSolver()\n",
    "    result = []\n",
    "    predictions = []\n",
    "    for task in tqdm(tasks):\n",
    "        if input_output_shape_is_same(task):\n",
    "            ts.train(task['train'])\n",
    "            pred = ts.predict(task['test'])\n",
    "            score = calk_score(task['test'], pred)\n",
    "        else:\n",
    "            pred = [el['input'] for el in task['test']]\n",
    "            score = [0]*len(task['test'])\n",
    "        \n",
    "        predictions.append(pred)\n",
    "        result.append(score)\n",
    "       \n",
    "    return result, predictions"
   ]
  },
  {
   "cell_type": "code",
   "execution_count": 21,
   "metadata": {
    "colab": {
     "base_uri": "https://localhost:8080/",
     "height": 51
    },
    "colab_type": "code",
    "id": "40rRE2NSHBTc",
    "outputId": "ce2d82f0-9b75-49ec-dd41-9c909902a239"
   },
   "outputs": [
    {
     "name": "stderr",
     "output_type": "stream",
     "text": [
      "100%|████████████████████████████████████████████████████████████████████████████████| 400/400 [52:55<00:00,  7.94s/it]\n"
     ]
    },
    {
     "name": "stdout",
     "output_type": "stream",
     "text": [
      "solved : 19 from 416 (0.04567307692307692)\n"
     ]
    }
   ],
   "source": [
    "train_result, train_predictions = evaluate(train_tasks)\n",
    "train_solved = [any(score) for score in train_result]\n",
    "\n",
    "total = sum([len(score) for score in train_result])\n",
    "print(f\"solved : {sum(train_solved)} from {total} ({sum(train_solved)/total})\")"
   ]
  },
  {
   "cell_type": "code",
   "execution_count": 22,
   "metadata": {
    "colab": {
     "base_uri": "https://localhost:8080/",
     "height": 51
    },
    "colab_type": "code",
    "id": "2sJZGZoGHBTg",
    "outputId": "597b5cf7-6b6e-46ed-89f1-b2b53c608b15"
   },
   "outputs": [
    {
     "name": "stderr",
     "output_type": "stream",
     "text": [
      "100%|██████████████████████████████████████████████████████████████████████████████| 400/400 [1:14:40<00:00, 15.51s/it]\n"
     ]
    },
    {
     "name": "stdout",
     "output_type": "stream",
     "text": [
      "solved : 3 from 419 (0.007159904534606206)\n"
     ]
    }
   ],
   "source": [
    "evaluation_result, evaluation_predictions = evaluate(evaluation_tasks)\n",
    "evaluation_solved = [any(score) for score in evaluation_result]\n",
    "\n",
    "total = sum([len(score) for score in evaluation_result])\n",
    "print(f\"solved : {sum(evaluation_solved)} from {total} ({sum(evaluation_solved)/total})\")"
   ]
  },
  {
   "cell_type": "code",
   "execution_count": null,
   "metadata": {},
   "outputs": [],
   "source": []
  }
 ],
 "metadata": {
  "colab": {
   "name": "basic CNN approach.ipynb",
   "provenance": []
  },
  "kernelspec": {
   "display_name": "Python 3",
   "language": "python",
   "name": "python3"
  },
  "language_info": {
   "codemirror_mode": {
    "name": "ipython",
    "version": 3
   },
   "file_extension": ".py",
   "mimetype": "text/x-python",
   "name": "python",
   "nbconvert_exporter": "python",
   "pygments_lexer": "ipython3",
   "version": "3.7.3"
  }
 },
 "nbformat": 4,
 "nbformat_minor": 1
}
